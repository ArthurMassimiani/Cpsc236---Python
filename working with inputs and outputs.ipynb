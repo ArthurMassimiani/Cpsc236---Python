{
 "cells": [
  {
   "cell_type": "code",
   "execution_count": 4,
   "id": "fd10afc2",
   "metadata": {},
   "outputs": [
    {
     "name": "stdout",
     "output_type": "stream",
     "text": [
      "1\n",
      "\n",
      "2\n",
      "\n"
     ]
    }
   ],
   "source": [
    "f = open(\"numbers.txt\", 'r')\n",
    "line1 = f.readline()\n",
    "line2 = f.readline()\n",
    "print(line1)\n",
    "print(line2)\n",
    "f.close()"
   ]
  },
  {
   "cell_type": "code",
   "execution_count": 3,
   "id": "543e4278",
   "metadata": {},
   "outputs": [
    {
     "name": "stdout",
     "output_type": "stream",
     "text": [
      "1\n",
      "2\n",
      "3\n",
      "4\n",
      "5\n",
      "\n"
     ]
    }
   ],
   "source": [
    "f = open(\"numbers.txt\", 'r')\n",
    "text = f.read()\n",
    "print(text)\n",
    "f.close()"
   ]
  },
  {
   "cell_type": "code",
   "execution_count": 5,
   "id": "b9a59d4d",
   "metadata": {},
   "outputs": [
    {
     "name": "stdout",
     "output_type": "stream",
     "text": [
      "['1\\n', '2\\n', '3\\n', '4\\n', '5\\n']\n"
     ]
    }
   ],
   "source": [
    "f = open(\"numbers.txt\", 'r')\n",
    "list1 = f.readlines()\n",
    "print(list1)\n",
    "f.close()"
   ]
  },
  {
   "cell_type": "code",
   "execution_count": 20,
   "id": "706759b5",
   "metadata": {},
   "outputs": [],
   "source": [
    "f = open(\"numbers.txt\", 'w')\n",
    "f.write(\"new text\\n\")\n",
    "f.write(\"new txt 1\\n\")\n",
    "f.write(\"new txt 2\\n\")\n",
    "f.write(\"new txt 3\\n\")\n",
    "f.write(\"new txt 4\\n\")\n",
    "f.close()"
   ]
  },
  {
   "cell_type": "code",
   "execution_count": 21,
   "id": "345a2b89",
   "metadata": {},
   "outputs": [
    {
     "name": "stdout",
     "output_type": "stream",
     "text": [
      "new text\n",
      "new txt 1\n",
      "new txt 2\n",
      "new txt 3\n",
      "new txt 4\n",
      "\n"
     ]
    }
   ],
   "source": [
    "f = open(\"numbers.txt\", 'r')\n",
    "text1 = f.read()\n",
    "print(text1)\n",
    "f.close()"
   ]
  },
  {
   "cell_type": "code",
   "execution_count": 26,
   "id": "a5211277",
   "metadata": {},
   "outputs": [
    {
     "name": "stdout",
     "output_type": "stream",
     "text": [
      "['new text\\n', 'new txt 1\\n', 'new txt 2\\n', 'new txt 3\\n', 'new txt 4\\n']\n"
     ]
    }
   ],
   "source": [
    "# using with to make sure the file closes after done with it\n",
    "\n",
    "with open(\"numbers.txt\" , \"r\") as i:\n",
    "    print(i.readlines())"
   ]
  },
  {
   "cell_type": "code",
   "execution_count": 27,
   "id": "90e98b3f",
   "metadata": {},
   "outputs": [
    {
     "name": "stdout",
     "output_type": "stream",
     "text": [
      "new text\n",
      "new txt 1\n",
      "new txt 2\n",
      "new txt 3\n",
      "new txt 4\n"
     ]
    }
   ],
   "source": [
    "with open(\"numbers.txt\", \"r\") as i:\n",
    "    for list in i:\n",
    "        print(list, end=\"\")"
   ]
  },
  {
   "cell_type": "code",
   "execution_count": 30,
   "id": "c9ccb7b6",
   "metadata": {},
   "outputs": [
    {
     "name": "stdout",
     "output_type": "stream",
     "text": [
      "new text\n",
      "new txt 1\n",
      "\n"
     ]
    }
   ],
   "source": [
    "# how to read file as a list\n",
    "\n",
    "with open(\"numbers.txt\", \"r\") as i:\n",
    "    file1 = i.readlines();\n",
    "    print(file1[0], end=\"\")\n",
    "    print(file1[1])\n",
    "        "
   ]
  },
  {
   "cell_type": "code",
   "execution_count": null,
   "id": "5851788a",
   "metadata": {},
   "outputs": [],
   "source": []
  }
 ],
 "metadata": {
  "kernelspec": {
   "display_name": "Python 3 (ipykernel)",
   "language": "python",
   "name": "python3"
  },
  "language_info": {
   "codemirror_mode": {
    "name": "ipython",
    "version": 3
   },
   "file_extension": ".py",
   "mimetype": "text/x-python",
   "name": "python",
   "nbconvert_exporter": "python",
   "pygments_lexer": "ipython3",
   "version": "3.11.5"
  }
 },
 "nbformat": 4,
 "nbformat_minor": 5
}
