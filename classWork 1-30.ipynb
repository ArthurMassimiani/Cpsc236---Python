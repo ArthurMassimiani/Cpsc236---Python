{
 "cells": [
  {
   "cell_type": "code",
   "execution_count": null,
   "id": "473b11cc",
   "metadata": {},
   "outputs": [],
   "source": [
    "# example of an if - elif - else statement\n",
    "temp = int(input(\"Enter a tempurature: \"))\n",
    "if 80 <= temp and temp <= 100:\n",
    "    print(\"Swim\")\n",
    "elif 60 <= temp and temp < 80:\n",
    "    print(\"Play golf\")\n",
    "elif temp < 60:\n",
    "    print(\"Eat\")\n",
    "elif temp > 100:\n",
    "    print(\"Nap\")"
   ]
  },
  {
   "cell_type": "code",
   "execution_count": 1,
   "id": "ac24518c",
   "metadata": {},
   "outputs": [
    {
     "name": "stdout",
     "output_type": "stream",
     "text": [
      "Hello!\n",
      "Say hello again? (y/n): y\n",
      "Hello!\n",
      "Say hello again? (y/n): y\n",
      "Hello!\n",
      "Say hello again? (y/n): n\n",
      "Bye!\n"
     ]
    }
   ],
   "source": [
    "# example of a while loop\n",
    "choice = \"y\"\n",
    "while choice.lower() == \"y\":\n",
    "    print(\"Hello!\")\n",
    "    choice = input(\"Say hello again? (y/n): \")\n",
    "print(\"Bye!\") # runs when loop ends"
   ]
  },
  {
   "cell_type": "code",
   "execution_count": 10,
   "id": "5f1d6377",
   "metadata": {},
   "outputs": [
    {
     "name": "stdout",
     "output_type": "stream",
     "text": [
      "Enter an integer \n",
      " Type 0 to read result: 3\n",
      "6\n"
     ]
    }
   ],
   "source": [
    "# finds value of all numbers precending the input numbers added together\n",
    "# ex: if you input 3, it will calculate 3 + 2 + 1\n",
    "    # which will result in a returned value of 6\n",
    "numAdd = int(input(\"Enter an integer \\n Type 0 to read result: \"))\n",
    "sum = 0\n",
    "while numAdd > 0:\n",
    "    sum = sum + numAdd\n",
    "    numAdd=numAdd -1\n",
    "print(sum)"
   ]
  },
  {
   "cell_type": "code",
   "execution_count": 15,
   "id": "0becaa23",
   "metadata": {},
   "outputs": [
    {
     "name": "stdout",
     "output_type": "stream",
     "text": [
      "Please enter a positive value: 3\n",
      "Total:  6\n"
     ]
    }
   ],
   "source": [
    "# finds factorial value of any inputed positive number\n",
    "# ex: if you input 3, it will calcuate 3 * 3 * 1\n",
    "    # which will result in a returned value of 6\n",
    "posNum = int(input(\"Please enter a positive value: \"))\n",
    "total2 = 1\n",
    "while posNum > 0:\n",
    "    total2 = total2 * posNum\n",
    "    posNum = posNum - 1\n",
    "print(\"Total: \", total2)"
   ]
  },
  {
   "cell_type": "code",
   "execution_count": 16,
   "id": "7e48680a",
   "metadata": {},
   "outputs": [
    {
     "name": "stdout",
     "output_type": "stream",
     "text": [
      "range(0, 5)\n"
     ]
    }
   ],
   "source": [
    "# example of using range\n",
    "print(range(5))\n",
    "# result - 0, 1, 2, 3, 4 \n",
    "    # 5 values"
   ]
  },
  {
   "cell_type": "code",
   "execution_count": 17,
   "id": "a6546368",
   "metadata": {},
   "outputs": [
    {
     "name": "stdout",
     "output_type": "stream",
     "text": [
      "range(1, 6)\n"
     ]
    }
   ],
   "source": [
    "# using range without starting at 0\n",
    "print(range(1, 6))\n",
    "# result - 1, 2, 3, 4, 5\n",
    "    # 5 values"
   ]
  },
  {
   "cell_type": "code",
   "execution_count": 20,
   "id": "c4b12d41",
   "metadata": {},
   "outputs": [
    {
     "name": "stdout",
     "output_type": "stream",
     "text": [
      "range(2, 10, 2)\n"
     ]
    }
   ],
   "source": [
    "# using range with an increment\n",
    "val = range(2, 10, 2)\n",
    "print(val)\n",
    "# result - 2, 4, 6, 8\n",
    "    # the last comma determines how much range is incremented/decremented"
   ]
  },
  {
   "cell_type": "code",
   "execution_count": 26,
   "id": "cf2107fb",
   "metadata": {},
   "outputs": [
    {
     "name": "stdout",
     "output_type": "stream",
     "text": [
      "Enter first integer: -2\n",
      "Enter second integer: -2\n",
      "Please input a positive integer: 1\n",
      "Please input a positive integer: 2\n"
     ]
    }
   ],
   "source": [
    "# finding the greatest common denominator between two positive inputs\n",
    "n1 = int(input(\"Enter first integer: \"))\n",
    "n2 = int(input(\"Enter second integer: \"))\n",
    "\n",
    "k = 0\n",
    "\n",
    "while n1 < 0:\n",
    "    n1 = int(input(\"Please input a positive integer for n1: \"))\n",
    "while n2 < 0:\n",
    "    n2 = int(input(\"Please input a positive integer for n2: \"))\n",
    "    "
   ]
  },
  {
   "cell_type": "code",
   "execution_count": null,
   "id": "a2c0c8aa",
   "metadata": {},
   "outputs": [],
   "source": []
  }
 ],
 "metadata": {
  "kernelspec": {
   "display_name": "Python 3 (ipykernel)",
   "language": "python",
   "name": "python3"
  },
  "language_info": {
   "codemirror_mode": {
    "name": "ipython",
    "version": 3
   },
   "file_extension": ".py",
   "mimetype": "text/x-python",
   "name": "python",
   "nbconvert_exporter": "python",
   "pygments_lexer": "ipython3",
   "version": "3.11.5"
  }
 },
 "nbformat": 4,
 "nbformat_minor": 5
}
