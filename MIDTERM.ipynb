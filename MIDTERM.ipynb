{
 "cells": [
  {
   "cell_type": "code",
   "execution_count": null,
   "id": "5780d3ce",
   "metadata": {},
   "outputs": [
    {
     "name": "stdout",
     "output_type": "stream",
     "text": [
      "List - list all the movies\n",
      "Add - add a movie\n",
      "Del - delete a movie\n",
      "Exit - exit a program\n",
      "\n",
      "Command: list\n",
      "Happy Gilmore (1922)\n",
      "\n",
      "Billy Madison (1923)\n",
      "\n",
      "Shaw Shank Redemption (1924)\n",
      "\n"
     ]
    }
   ],
   "source": [
    "def list_movies(movies):\n",
    "    if len(movies) == 0:\n",
    "        print(\"There are no movies in the list\\n\")\n",
    "        return\n",
    "    else:\n",
    "        for x in movies:\n",
    "            print(x[0] + \" (\" + str(x[1]) + \")\")\n",
    "            print()\n",
    "\n",
    "def display_menu():\n",
    "    print(\"List - list all the movies\")\n",
    "    print(\"Add - add a movie\")\n",
    "    print(\"Del - delete a movie\")\n",
    "    print(\"Exit - exit a program\\n\")\n",
    "\n",
    "def add_movies(movies):\n",
    "    if len(movies) < 100:\n",
    "        new_movie = []\n",
    "        name = input(\"Name: \")\n",
    "        year = input(\"Year: \")\n",
    "        print('\\n' + name + \" was added.\\n\")\n",
    "        new_movie.append(name)\n",
    "        new_movie.append(year)\n",
    "        movies.append(new_movie)\n",
    "    else:\n",
    "        print(\"Store can only carry 100 movies\")\n",
    "\n",
    "def delete_movies(movies):\n",
    "    number = int(input(\"Number: \"))\n",
    "    if number < 1 or number > len(movies):\n",
    "        print(\"Invalid movie number.\\n\")\n",
    "    else:\n",
    "        movie = movies.pop(number-1)\n",
    "        print(movie[0] + \" was deleted.\\n\")\n",
    "\n",
    "def main():\n",
    "    movies = [[\"Happy Gilmore\", 1922], \n",
    "              [\"Billy Madison\", 1923], \n",
    "              [\"Shaw Shank Redemption\", 1924]]\n",
    "\n",
    "    display_menu()\n",
    "\n",
    "    while True:\n",
    "        choice = input(\"Command: \")\n",
    "           \n",
    "        if choice.lower() == \"list\":\n",
    "            list_movies(movies)\n",
    "        elif choice.lower() == \"add\":\n",
    "            add_movies(movies)\n",
    "        elif choice.lower() == \"del\":\n",
    "            delete_movies(movies)\n",
    "        elif choice.lower() == \"exit\":\n",
    "            print(\"Bye!\")\n",
    "            break;\n",
    "        else:\n",
    "            print(\"Please enter a valid input an try again\")\n",
    "\n",
    "\n",
    "if __name__ == \"__main__\":\n",
    "     main()"
   ]
  },
  {
   "cell_type": "code",
   "execution_count": null,
   "id": "9b3ecefe",
   "metadata": {},
   "outputs": [],
   "source": []
  },
  {
   "cell_type": "code",
   "execution_count": null,
   "id": "0cfd641c",
   "metadata": {},
   "outputs": [],
   "source": []
  }
 ],
 "metadata": {
  "kernelspec": {
   "display_name": "Python 3 (ipykernel)",
   "language": "python",
   "name": "python3"
  },
  "language_info": {
   "codemirror_mode": {
    "name": "ipython",
    "version": 3
   },
   "file_extension": ".py",
   "mimetype": "text/x-python",
   "name": "python",
   "nbconvert_exporter": "python",
   "pygments_lexer": "ipython3",
   "version": "3.9.13"
  }
 },
 "nbformat": 4,
 "nbformat_minor": 5
}
