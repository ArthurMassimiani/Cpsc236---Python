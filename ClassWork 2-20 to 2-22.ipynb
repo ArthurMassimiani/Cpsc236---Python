{
 "cells": [
  {
   "cell_type": "code",
   "execution_count": 2,
   "id": "36217721",
   "metadata": {},
   "outputs": [
    {
     "name": "stdout",
     "output_type": "stream",
     "text": [
      "10\n"
     ]
    }
   ],
   "source": [
    "x = [1, 10]"
   ]
  },
  {
   "cell_type": "code",
   "execution_count": 3,
   "id": "7c3178fc",
   "metadata": {},
   "outputs": [
    {
     "data": {
      "text/plain": [
       "10"
      ]
     },
     "execution_count": 3,
     "metadata": {},
     "output_type": "execute_result"
    }
   ],
   "source": [
    "x[1]"
   ]
  },
  {
   "cell_type": "code",
   "execution_count": 4,
   "id": "8f3de6c5",
   "metadata": {},
   "outputs": [],
   "source": [
    "x[0] = 20"
   ]
  },
  {
   "cell_type": "code",
   "execution_count": 5,
   "id": "de374c1e",
   "metadata": {},
   "outputs": [
    {
     "data": {
      "text/plain": [
       "20"
      ]
     },
     "execution_count": 5,
     "metadata": {},
     "output_type": "execute_result"
    }
   ],
   "source": [
    "x[0]"
   ]
  },
  {
   "cell_type": "code",
   "execution_count": 6,
   "id": "1d97150e",
   "metadata": {},
   "outputs": [
    {
     "name": "stdout",
     "output_type": "stream",
     "text": [
      "[20, 10]\n"
     ]
    }
   ],
   "source": [
    "print(x)"
   ]
  },
  {
   "cell_type": "code",
   "execution_count": 13,
   "id": "adcc0538",
   "metadata": {},
   "outputs": [],
   "source": [
    "mylist = [\"art\", 3, \"hi\"]"
   ]
  },
  {
   "cell_type": "code",
   "execution_count": 14,
   "id": "d120b972",
   "metadata": {},
   "outputs": [
    {
     "data": {
      "text/plain": [
       "'art'"
      ]
     },
     "execution_count": 14,
     "metadata": {},
     "output_type": "execute_result"
    }
   ],
   "source": [
    "mylist[0]"
   ]
  },
  {
   "cell_type": "code",
   "execution_count": 15,
   "id": "0abeff2d",
   "metadata": {},
   "outputs": [
    {
     "data": {
      "text/plain": [
       "3"
      ]
     },
     "execution_count": 15,
     "metadata": {},
     "output_type": "execute_result"
    }
   ],
   "source": [
    "mylist[1]"
   ]
  },
  {
   "cell_type": "code",
   "execution_count": 16,
   "id": "b3fcb77e",
   "metadata": {},
   "outputs": [
    {
     "data": {
      "text/plain": [
       "'hi'"
      ]
     },
     "execution_count": 16,
     "metadata": {},
     "output_type": "execute_result"
    }
   ],
   "source": [
    "mylist[2]"
   ]
  },
  {
   "cell_type": "code",
   "execution_count": 17,
   "id": "0bf14085",
   "metadata": {},
   "outputs": [
    {
     "data": {
      "text/plain": [
       "['art',\n",
       " 3,\n",
       " 'hi',\n",
       " 'art',\n",
       " 3,\n",
       " 'hi',\n",
       " 'art',\n",
       " 3,\n",
       " 'hi',\n",
       " 'art',\n",
       " 3,\n",
       " 'hi',\n",
       " 'art',\n",
       " 3,\n",
       " 'hi']"
      ]
     },
     "execution_count": 17,
     "metadata": {},
     "output_type": "execute_result"
    }
   ],
   "source": [
    "mylist * 5"
   ]
  },
  {
   "cell_type": "code",
   "execution_count": 18,
   "id": "74114d31",
   "metadata": {},
   "outputs": [
    {
     "data": {
      "text/plain": [
       "'----------'"
      ]
     },
     "execution_count": 18,
     "metadata": {},
     "output_type": "execute_result"
    }
   ],
   "source": [
    "\"-\" * 10"
   ]
  },
  {
   "cell_type": "code",
   "execution_count": 19,
   "id": "0938ec79",
   "metadata": {},
   "outputs": [
    {
     "data": {
      "text/plain": [
       "['art', 'art', 'art', 'art']"
      ]
     },
     "execution_count": 19,
     "metadata": {},
     "output_type": "execute_result"
    }
   ],
   "source": [
    "['art'] * 4"
   ]
  },
  {
   "cell_type": "code",
   "execution_count": 20,
   "id": "d815f0c2",
   "metadata": {},
   "outputs": [],
   "source": [
    "list2 = [1, 4, 34, 2]"
   ]
  },
  {
   "cell_type": "code",
   "execution_count": 21,
   "id": "887ca07d",
   "metadata": {},
   "outputs": [
    {
     "data": {
      "text/plain": [
       "2"
      ]
     },
     "execution_count": 21,
     "metadata": {},
     "output_type": "execute_result"
    }
   ],
   "source": [
    "list2[-1]"
   ]
  },
  {
   "cell_type": "code",
   "execution_count": 22,
   "id": "07572b01",
   "metadata": {},
   "outputs": [
    {
     "data": {
      "text/plain": [
       "1"
      ]
     },
     "execution_count": 22,
     "metadata": {},
     "output_type": "execute_result"
    }
   ],
   "source": [
    "list2[-4]"
   ]
  },
  {
   "cell_type": "code",
   "execution_count": 24,
   "id": "af888837",
   "metadata": {},
   "outputs": [
    {
     "name": "stdout",
     "output_type": "stream",
     "text": [
      "1\n",
      "4\n",
      "34\n",
      "2\n"
     ]
    }
   ],
   "source": [
    "for x in list2:\n",
    "    print(x)"
   ]
  },
  {
   "cell_type": "code",
   "execution_count": 26,
   "id": "444bf9eb",
   "metadata": {},
   "outputs": [
    {
     "name": "stdout",
     "output_type": "stream",
     "text": [
      "1\n",
      "4\n",
      "34\n",
      "2\n"
     ]
    },
    {
     "ename": "IndexError",
     "evalue": "list index out of range",
     "output_type": "error",
     "traceback": [
      "\u001b[1;31m---------------------------------------------------------------------------\u001b[0m",
      "\u001b[1;31mIndexError\u001b[0m                                Traceback (most recent call last)",
      "Cell \u001b[1;32mIn[26], line 4\u001b[0m\n\u001b[0;32m      2\u001b[0m count \u001b[38;5;241m=\u001b[39m \u001b[38;5;241m0\u001b[39m\n\u001b[0;32m      3\u001b[0m \u001b[38;5;28;01mwhile\u001b[39;00m count \u001b[38;5;241m<\u001b[39m \u001b[38;5;241m5\u001b[39m:\n\u001b[1;32m----> 4\u001b[0m     \u001b[38;5;28mprint\u001b[39m(list2[count])\n\u001b[0;32m      5\u001b[0m     count \u001b[38;5;241m+\u001b[39m\u001b[38;5;241m=\u001b[39m \u001b[38;5;241m1\u001b[39m\n",
      "\u001b[1;31mIndexError\u001b[0m: list index out of range"
     ]
    }
   ],
   "source": [
    "list2 = [1, 4, 34, 2]\n",
    "count = 0\n",
    "while count < 5:\n",
    "    print(list2[count])\n",
    "    count += 1"
   ]
  },
  {
   "cell_type": "code",
   "execution_count": 44,
   "id": "8078ca51",
   "metadata": {},
   "outputs": [
    {
     "name": "stdout",
     "output_type": "stream",
     "text": [
      "The largest value is 606.5\n",
      "The index of largest value is 7\n",
      "The smallest value is 20.2\n",
      "The index of smallest value is 2\n"
     ]
    }
   ],
   "source": [
    "exList = [48.0,30.5,20.2,100.0,42.0,50.5,20.6,606.5,501.2]\n",
    "smallest = exList[0]\n",
    "largest = exList[0]\n",
    "indexSmall, indexLarge = 0,0\n",
    "\n",
    "i = 0\n",
    "while i < len(exList):\n",
    "    if largest < exList[i]:\n",
    "        largest = exList[i]\n",
    "        indexLarge = i\n",
    "    elif smallest > exList[i]:\n",
    "        smallest = exList[i]\n",
    "        indexSmall = i\n",
    "    i += 1\n",
    "print(\"The largest value is\", largest)\n",
    "print(\"The index of largest value is\", indexLarge)\n",
    "print(\"The smallest value is\", smallest)\n",
    "print(\"The index of smallest value is\", indexSmall)"
   ]
  },
  {
   "cell_type": "code",
   "execution_count": 46,
   "id": "c12271a4",
   "metadata": {},
   "outputs": [
    {
     "name": "stdout",
     "output_type": "stream",
     "text": [
      "Input a number10\n",
      "Input a number2\n",
      "Input a number34\n",
      "Input a number9999\n",
      "Input a number21\n",
      "Input a number1\n",
      "Input a number29\n",
      "Input a number34\n",
      "Input a number03\n",
      "The largest value is 9999\n",
      "The index of largest value is 3\n",
      "The smallest value is 1\n",
      "The index of smallest value is 5\n"
     ]
    }
   ],
   "source": [
    "exList = []\n",
    "\n",
    "count = 0\n",
    "while count < 9:\n",
    "    x = int(input(\"Input a number \"))\n",
    "    exList.append(x)\n",
    "    count += 1\n",
    "\n",
    "smallest = exList[0]\n",
    "largest = exList[0]\n",
    "indexSmall, indexLarge = 0,0\n",
    "\n",
    "i = 0\n",
    "while i < len(exList):\n",
    "    if largest < exList[i]:\n",
    "        largest = exList[i]\n",
    "        indexLarge = i\n",
    "    elif smallest > exList[i]:\n",
    "        smallest = exList[i]\n",
    "        indexSmall = i\n",
    "    i += 1\n",
    "print(\"The largest value is\", largest)\n",
    "print(\"The index of largest value is\", indexLarge)\n",
    "print(\"The smallest value is\", smallest)\n",
    "print(\"The index of smallest value is\", indexSmall)"
   ]
  },
  {
   "cell_type": "code",
   "execution_count": 54,
   "id": "e8440acd",
   "metadata": {},
   "outputs": [
    {
     "data": {
      "text/plain": [
       "1"
      ]
     },
     "execution_count": 54,
     "metadata": {},
     "output_type": "execute_result"
    }
   ],
   "source": [
    "myList = [100,800,700]\n",
    "myList.index(max(myList))"
   ]
  },
  {
   "cell_type": "code",
   "execution_count": 55,
   "id": "7ed005bf",
   "metadata": {},
   "outputs": [
    {
     "data": {
      "text/plain": [
       "800"
      ]
     },
     "execution_count": 55,
     "metadata": {},
     "output_type": "execute_result"
    }
   ],
   "source": [
    "max(myList)"
   ]
  },
  {
   "cell_type": "code",
   "execution_count": 62,
   "id": "6a8261bd",
   "metadata": {},
   "outputs": [
    {
     "name": "stdout",
     "output_type": "stream",
     "text": [
      "100\n"
     ]
    }
   ],
   "source": [
    "myList.insert(1,75)\n",
    "print(myList[0])"
   ]
  },
  {
   "cell_type": "code",
   "execution_count": 57,
   "id": "d0bc1673",
   "metadata": {},
   "outputs": [
    {
     "ename": "TypeError",
     "evalue": "'list' object is not callable",
     "output_type": "error",
     "traceback": [
      "\u001b[1;31m---------------------------------------------------------------------------\u001b[0m",
      "\u001b[1;31mTypeError\u001b[0m                                 Traceback (most recent call last)",
      "Cell \u001b[1;32mIn[57], line 1\u001b[0m\n\u001b[1;32m----> 1\u001b[0m myList(\u001b[38;5;241m1\u001b[39m)\n",
      "\u001b[1;31mTypeError\u001b[0m: 'list' object is not callable"
     ]
    }
   ],
   "source": []
  },
  {
   "cell_type": "code",
   "execution_count": 12,
   "id": "f8ab31a3",
   "metadata": {},
   "outputs": [
    {
     "name": "stdout",
     "output_type": "stream",
     "text": [
      "Please input an integer 1\n",
      "Please input an integer 2\n",
      "Please input an integer 7\n",
      "Please input an integer 7\n",
      "Please input an integer 10\n",
      "Please input an integer 23\n",
      "Please input an integer 4\n",
      "Please input an integer 5\n",
      "Please input an integer 6\n",
      "Please input an integer 0\n",
      "Please input an integer 9\n",
      "Please input an integer 12\n",
      "Please input an integer 34\n",
      "Please input an integer 32\n",
      "Please input an integer 12\n",
      "[1, 2, 7, 7, 10, 23, 4, 5, 6, 0, 9, 12, 34, 32, 12]\n",
      "Please enter a num to replace with 0 from the list 7\n",
      "[1, 2, 0, 0, 10, 23, 4, 5, 6, 0, 9, 12, 34, 32, 12]\n"
     ]
    }
   ],
   "source": [
    "exampleList = []\n",
    "\n",
    "count = 0\n",
    "while count < 15:\n",
    "    x = int(input(\"Please input an integer \"))\n",
    "    exampleList.append(x)\n",
    "    count += 1\n",
    "print(exampleList)\n",
    "\n",
    "numReplace = int(input(\"Please enter a num to replace with 0 from the list \"))\n",
    "\n",
    "for i in range(0, len(exampleList)):\n",
    "    if exampleList[i] == numReplace:\n",
    "        del exampleList[i]\n",
    "        exampleList.insert(i, 0)\n",
    "print(exampleList)"
   ]
  },
  {
   "cell_type": "code",
   "execution_count": 13,
   "id": "ba9e91cb",
   "metadata": {},
   "outputs": [
    {
     "name": "stdout",
     "output_type": "stream",
     "text": [
      "[1, 2, 1, 3]\n"
     ]
    }
   ],
   "source": [
    "s1 = [1,2]\n",
    "s2 = [1,3]\n",
    "s1 = s1 + s2\n",
    "print(s1)"
   ]
  },
  {
   "cell_type": "code",
   "execution_count": 14,
   "id": "a9f3f519",
   "metadata": {},
   "outputs": [
    {
     "name": "stdout",
     "output_type": "stream",
     "text": [
      "[5, 2, 3]\n",
      "[1, 2, 3]\n"
     ]
    }
   ],
   "source": [
    "def fun1(a):\n",
    "    a[0] = 1\n",
    "    \n",
    "b = [5,2,3]\n",
    "print(b)\n",
    "\n",
    "fun1(b)\n",
    "print(b)"
   ]
  },
  {
   "cell_type": "code",
   "execution_count": 16,
   "id": "2417c59b",
   "metadata": {},
   "outputs": [],
   "source": [
    "def list(movie_list):\n",
    "    if len(movie_list) == 0:\n",
    "        print(\"There are no movies in the list.\\n\")\n",
    "        return\n",
    "    else:\n",
    "        i = 1\n",
    "        for row in movie_list:\n",
    "            print(str(i) + \". \" + row[0] + \" (\" + str(row[1]) + \")\")\n",
    "            i += 1\n",
    "        print()\n",
    "        \n",
    "def add(movie_list):\n",
    "    name = input(\"Name: \")\n",
    "    year = input(\"Year: \")\n",
    "    movie = []\n",
    "    movie.append(name)\n",
    "    movie.append(year)\n",
    "    movie_list.append(movie)\n",
    "    print(movie[0] + \" was added.\\n\")\n",
    "    \n",
    "def delete(movie_list):\n",
    "    number = int(input(\"Number: \"))\n",
    "    if number < 1 or number > len(movie_list):\n",
    "        print(f\"Invalid movie number.\\n\")\n",
    "    else:\n",
    "        movie = movie_list.pop(number-1)\n",
    "        print(movie[0] + \" was deleted.\\n\")\n",
    "\n",
    "def display_menu():\n",
    "    print(\"COMMAND MENU\")\n",
    "    print(\"list - List all movies\")\n",
    "    print(\"add - Add a movie\")\n",
    "    print(\"del - Delete a movie\")\n",
    "    print(\"exit - Exit program\")\n",
    "    print()\n",
    "    \n",
    "def main():\n",
    "    movie_list = [[\"Monty Python\"]]"
   ]
  },
  {
   "cell_type": "code",
   "execution_count": null,
   "id": "6c2d1cf0",
   "metadata": {},
   "outputs": [],
   "source": []
  }
 ],
 "metadata": {
  "kernelspec": {
   "display_name": "Python 3 (ipykernel)",
   "language": "python",
   "name": "python3"
  },
  "language_info": {
   "codemirror_mode": {
    "name": "ipython",
    "version": 3
   },
   "file_extension": ".py",
   "mimetype": "text/x-python",
   "name": "python",
   "nbconvert_exporter": "python",
   "pygments_lexer": "ipython3",
   "version": "3.11.5"
  }
 },
 "nbformat": 4,
 "nbformat_minor": 5
}
