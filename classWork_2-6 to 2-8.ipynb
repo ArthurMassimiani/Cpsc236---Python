{
 "cells": [
  {
   "cell_type": "code",
   "execution_count": 1,
   "id": "9e1068f8",
   "metadata": {},
   "outputs": [
    {
     "name": "stdout",
     "output_type": "stream",
     "text": [
      "Hello!\n"
     ]
    }
   ],
   "source": [
    "# define and call a void function\n",
    "def function_name():\n",
    "    print(\"Hello!\")\n",
    "    \n",
    "function_name()"
   ]
  },
  {
   "cell_type": "code",
   "execution_count": 12,
   "id": "f122f825",
   "metadata": {},
   "outputs": [
    {
     "name": "stdout",
     "output_type": "stream",
     "text": [
      "text\n",
      "10\n",
      "\n",
      "(1, 2)\n",
      "\n",
      "(1, 2)\n",
      "1\n"
     ]
    }
   ],
   "source": [
    "# define and call a value returning value \n",
    "# in python, you can return more than one variable (can't do that in c++)\n",
    "def fun():\n",
    "    s = \"text\\n\"\n",
    "    x = 10\n",
    "    return s,x\n",
    "ss,xx = fun()\n",
    "\n",
    "print(ss)\n",
    "print(xx)\n",
    "print()\n",
    "\n",
    "# another, simpler example\n",
    "def returnOne():\n",
    "    return 1,2\n",
    "\n",
    "print(returnOne())\n",
    "print()\n",
    "\n",
    "# another example\n",
    "\n",
    "def returnExOne():\n",
    "    return 1,2\n",
    "\n",
    "x = returnExOne()\n",
    "print(x)\n",
    "print()\n",
    "\n",
    "# example of assigning a value to multiple variables (x = 1, y = 2)\n",
    "def returnEXOne():\n",
    "    return 1,2\n",
    "\n",
    "x,y = 1,2\n",
    "print(x)"
   ]
  },
  {
   "cell_type": "code",
   "execution_count": 18,
   "id": "d74f4506",
   "metadata": {},
   "outputs": [
    {
     "name": "stdout",
     "output_type": "stream",
     "text": [
      "10\n"
     ]
    }
   ],
   "source": [
    "# local variables\n",
    "def fun(x):\n",
    "    x = 5 # local variable (call by value), this makes x's value go away when you print it outside of function\n",
    "\n",
    "x = 10\n",
    "fun(x)\n",
    "print(x)"
   ]
  },
  {
   "cell_type": "code",
   "execution_count": 23,
   "id": "e56d4346",
   "metadata": {},
   "outputs": [
    {
     "name": "stdout",
     "output_type": "stream",
     "text": [
      "10\n"
     ]
    }
   ],
   "source": [
    "# passing arguments to functions\n",
    "\n",
    "value = 5\n",
    "show_double(value)\n",
    "    \n",
    "def show_double(number):\n",
    "    result = number * 2\n",
    "    print(result)"
   ]
  },
  {
   "cell_type": "code",
   "execution_count": 38,
   "id": "79fe841d",
   "metadata": {},
   "outputs": [
    {
     "name": "stdout",
     "output_type": "stream",
     "text": [
      "Enter an integer: 12.345\n",
      "\n",
      "Answer is not an integer, try again\n",
      "\n",
      "Enter an integer: 67\n"
     ]
    },
    {
     "data": {
      "text/plain": [
       "4489"
      ]
     },
     "execution_count": 38,
     "metadata": {},
     "output_type": "execute_result"
    }
   ],
   "source": [
    "# function to calculate the factorial value of any integer as an argument\n",
    "def factorialVal(x):\n",
    "    x = input(\"Enter an integer: \")\n",
    "    if '.' in x:\n",
    "        print(\"\\nAnswer is not an integer, try again\")\n",
    "        x = input(\"\\nEnter an integer: \")\n",
    "    x = int(x) * int(x)\n",
    "    return x\n",
    "factorialVal(x)"
   ]
  },
  {
   "cell_type": "code",
   "execution_count": null,
   "id": "0480a538",
   "metadata": {},
   "outputs": [],
   "source": [
    "# write a function that takes 2 arguments and returns the result as double value\n",
    "def power(n, b):\n",
    "    x =n \n",
    "    for i in range(1, p):\n",
    "        n *= x\n",
    "    return n\n",
    "\n",
    "while True: \n",
    "    n = float(input(\"Enter a number: \"))\n",
    "    if n < 0:\n",
    "        print(\"Please enter a positive number.\")\n",
    "    else:\n",
    "        break\n",
    "while True:\n",
    "    p = int(input(\"Enter the power: \"))\n",
    "    if p < 0:\n",
    "        print(\"Please enter a positive power.\")\n",
    "    else:\n",
    "        break\n",
    "        \n",
    "result = power(n, p)\n",
    "print(\"Result:\", result)"
   ]
  },
  {
   "cell_type": "code",
   "execution_count": 18,
   "id": "f9edffc2",
   "metadata": {},
   "outputs": [
    {
     "name": "stdout",
     "output_type": "stream",
     "text": [
      "Enter integer 1: 5\n",
      "Enter integer 2 (have it be more than integer 1): 10\n",
      "(45, 151200)\n"
     ]
    }
   ],
   "source": [
    "def fun(x, y):\n",
    "    sum = 0\n",
    "    product = 1\n",
    "    \n",
    "    if start > end:\n",
    "        print(\"Please make integer 1 smaller than integer 2.\")\n",
    "        \n",
    "    else:\n",
    "        for i in range(start, end + 1):\n",
    "            sum += i\n",
    "            product *= i\n",
    "    return sum, product\n",
    "\n",
    "start = int(input(\"Enter integer 1: \"))\n",
    "end = int(input(\"Enter integer 2 (have it be more than integer 1): \"))\n",
    "\n",
    "print(fun(start, end))"
   ]
  },
  {
   "cell_type": "markdown",
   "id": "71453470",
   "metadata": {},
   "source": []
  },
  {
   "cell_type": "code",
   "execution_count": 22,
   "id": "0743dff8",
   "metadata": {},
   "outputs": [
    {
     "name": "stdout",
     "output_type": "stream",
     "text": [
      "13\n"
     ]
    }
   ],
   "source": [
    "def sum1(num1, num2, *nums):\n",
    "    \n",
    "    sum2 = 0\n",
    "    if (len(nums))> 0:\n",
    "        for x in nums:\n",
    "            sum2+=x\n",
    "            \n",
    "    return sum2+num1+num2\n",
    "\n",
    "#num1 = int(input(\"Please enter number 1: \"))\n",
    "#num2 = int(input(\"Please enter number 2: \"))\n",
    "\n",
    "print(sum1(5,5,1,2))"
   ]
  },
  {
   "cell_type": "code",
   "execution_count": 1,
   "id": "be653186",
   "metadata": {},
   "outputs": [
    {
     "name": "stdout",
     "output_type": "stream",
     "text": [
      "3\n",
      "6\n",
      "15\n"
     ]
    }
   ],
   "source": [
    "def sum(x, y, *args):\n",
    "    result = x + y\n",
    "    for arg in args:\n",
    "        result += arg\n",
    "    return result\n",
    "\n",
    "print(sum(1,2))\n",
    "print(sum(1,2,3))\n",
    "print(sum(1,2,3,4,5))"
   ]
  },
  {
   "cell_type": "code",
   "execution_count": null,
   "id": "9e686375",
   "metadata": {},
   "outputs": [],
   "source": []
  }
 ],
 "metadata": {
  "kernelspec": {
   "display_name": "Python 3 (ipykernel)",
   "language": "python",
   "name": "python3"
  },
  "language_info": {
   "codemirror_mode": {
    "name": "ipython",
    "version": 3
   },
   "file_extension": ".py",
   "mimetype": "text/x-python",
   "name": "python",
   "nbconvert_exporter": "python",
   "pygments_lexer": "ipython3",
   "version": "3.11.5"
  }
 },
 "nbformat": 4,
 "nbformat_minor": 5
}
